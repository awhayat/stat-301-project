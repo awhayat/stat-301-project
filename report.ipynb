{
 "cells": [
  {
   "cell_type": "markdown",
   "id": "94683ded-ca26-4bf6-a5ab-50f450bf41c9",
   "metadata": {},
   "source": [
    "# STAT 301 Group 40 Final Report"
   ]
  },
  {
   "cell_type": "markdown",
   "id": "6c0baed8-a91c-4d94-9d4b-ade15c2195f9",
   "metadata": {},
   "source": [
    "Wasay Hayat, Juhi Grover, Qi Xu, Allen Zheng"
   ]
  },
  {
   "cell_type": "markdown",
   "id": "401e1e63-a8b7-4b99-8950-f79c12339c9f",
   "metadata": {},
   "source": [
    "## Introduction"
   ]
  },
  {
   "cell_type": "markdown",
   "id": "36244503-1a06-453f-8cb4-95228047e558",
   "metadata": {},
   "source": [
    "(add background information)\n",
    "\n",
    "**Overarching question:** (insert question)"
   ]
  },
  {
   "cell_type": "markdown",
   "id": "251b2aad-f1a1-47ac-8252-3217cda69382",
   "metadata": {},
   "source": [
    "### Data Description"
   ]
  },
  {
   "cell_type": "markdown",
   "id": "33ca3a9f-61be-46ce-9090-476d967b3159",
   "metadata": {},
   "source": [
    "## Methods and Results"
   ]
  },
  {
   "cell_type": "markdown",
   "id": "531bcb91-c0e6-46cb-9c94-91c63b100306",
   "metadata": {},
   "source": [
    "### Exploratory Data Analysis"
   ]
  },
  {
   "cell_type": "markdown",
   "id": "1f8540af-cd4a-4750-9496-d904097cd6bd",
   "metadata": {},
   "source": [
    "### Plan"
   ]
  },
  {
   "cell_type": "markdown",
   "id": "eeaa8105-0023-48c9-ba1e-0a321a285c63",
   "metadata": {},
   "source": [
    "### Computational Code and Output"
   ]
  },
  {
   "cell_type": "markdown",
   "id": "d6cbb279-6b3c-4e50-80da-1ecf48d68946",
   "metadata": {},
   "source": [
    "## Discussion"
   ]
  },
  {
   "cell_type": "markdown",
   "id": "b50c20f6-3bb9-4ea0-b4b5-f2baac2d8981",
   "metadata": {},
   "source": [
    "## References"
   ]
  },
  {
   "cell_type": "markdown",
   "id": "f7e0a56d-fe8a-41ce-83f9-74bce91b9fd1",
   "metadata": {},
   "source": [
    "(at least two references expected in the introduction)\n",
    "\n",
    "- reference 1\n",
    "- reference 2"
   ]
  }
 ],
 "metadata": {
  "kernelspec": {
   "display_name": "R",
   "language": "R",
   "name": "ir"
  },
  "language_info": {
   "codemirror_mode": "r",
   "file_extension": ".r",
   "mimetype": "text/x-r-source",
   "name": "R",
   "pygments_lexer": "r",
   "version": "4.3.3"
  }
 },
 "nbformat": 4,
 "nbformat_minor": 5
}
