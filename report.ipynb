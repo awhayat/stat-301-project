{
 "cells": [
  {
   "cell_type": "markdown",
   "id": "94683ded-ca26-4bf6-a5ab-50f450bf41c9",
   "metadata": {},
   "source": [
    "# STAT 301 Group 40 Final Report"
   ]
  },
  {
   "cell_type": "markdown",
   "id": "6c0baed8-a91c-4d94-9d4b-ade15c2195f9",
   "metadata": {},
   "source": [
    "Wasay Hayat, Juhi Grover, Qi Xu, Allen Zheng"
   ]
  },
  {
   "cell_type": "markdown",
   "id": "401e1e63-a8b7-4b99-8950-f79c12339c9f",
   "metadata": {},
   "source": [
    "## Introduction"
   ]
  },
  {
   "cell_type": "markdown",
   "id": "36244503-1a06-453f-8cb4-95228047e558",
   "metadata": {},
   "source": [
    "(add background information)\n",
    "\n",
    "**Overarching question:** How can various listing features as well as location be used to predict the full price of accommodation of an Airbnb listing for two people and two nights in Barcelona, Paris, or Vienna?"
   ]
  },
  {
   "cell_type": "markdown",
   "id": "251b2aad-f1a1-47ac-8252-3217cda69382",
   "metadata": {},
   "source": [
    "### Data Description"
   ]
  },
  {
   "cell_type": "markdown",
   "id": "ca60c3e3-96ee-4141-84a6-8c329e285ada",
   "metadata": {},
   "source": [
    "We are using data on Airbnb prices in European cities, downloaded from [Kaggle](https://www.kaggle.com/datasets/thedevastator/airbnb-prices-in-european-cities).\n",
    "\n",
    "Original data source: Gyódi, K.and Ł. Nawaro. Determinants of Airbnb Prices in European Cities: A Spatial Econometrics Approach (supplementary Material). Zenodo, 13 Jan. 2021, [doi:10.5281/zenodo.4446043](doi:10.5281/zenodo.4446043).\n",
    "\n",
    "Combining data from 3 cities (Paris, Barcelona, and Vienna), we have 13,058 observations and 22 columns, including 2 new columns created for this project.\n",
    "\n",
    "**Variable descriptions:**\n",
    "- realSum: the full price of accommodation for two people and two nights in EUR\n",
    "- room_type: the type of the accommodation \n",
    "- room_shared: dummy variable for shared rooms\n",
    "- room_private: dummy variable for private rooms\n",
    "- person_capacity: the maximum number of guests \n",
    "- host_is_superhost: dummy variable for superhost status\n",
    "- multi: dummy variable if the listing belongs to hosts with 2-4 offers\n",
    "- biz: dummy variable if the listing belongs to hosts with more than 4 offers\n",
    "- cleanliness_rating: cleanliness rating\n",
    "- guest_satisfaction_overall: overall rating of the listing\n",
    "- bedrooms: number of bedrooms (0 for studios)\n",
    "- dist: distance from city centre in km\n",
    "- metro_dist: distance from nearest metro station in km\n",
    "- attr_index: attraction index of the listing location\n",
    "- attr_index_norm: normalised attraction index (0-100)\n",
    "- rest_index: restaurant index of the listing location\n",
    "- rest_index_norm: normalised restaurant index (0-100)\n",
    "- lng: longitude of the listing location\n",
    "- lat: latitude of the listing location\n",
    "- **(added)** city: city of the listing location\n",
    "- **(added)** day_type: weekday or weekend"
   ]
  },
  {
   "cell_type": "markdown",
   "id": "33ca3a9f-61be-46ce-9090-476d967b3159",
   "metadata": {},
   "source": [
    "## Methods and Results"
   ]
  },
  {
   "cell_type": "markdown",
   "id": "531bcb91-c0e6-46cb-9c94-91c63b100306",
   "metadata": {},
   "source": [
    "### Exploratory Data Analysis"
   ]
  },
  {
   "cell_type": "code",
   "execution_count": 1,
   "id": "55ed0a9d-97fc-4545-8467-c923c6174da6",
   "metadata": {},
   "outputs": [
    {
     "name": "stderr",
     "output_type": "stream",
     "text": [
      "── \u001b[1mAttaching core tidyverse packages\u001b[22m ──────────────────────── tidyverse 2.0.0 ──\n",
      "\u001b[32m✔\u001b[39m \u001b[34mdplyr    \u001b[39m 1.1.4     \u001b[32m✔\u001b[39m \u001b[34mreadr    \u001b[39m 2.1.5\n",
      "\u001b[32m✔\u001b[39m \u001b[34mforcats  \u001b[39m 1.0.0     \u001b[32m✔\u001b[39m \u001b[34mstringr  \u001b[39m 1.5.1\n",
      "\u001b[32m✔\u001b[39m \u001b[34mggplot2  \u001b[39m 3.5.1     \u001b[32m✔\u001b[39m \u001b[34mtibble   \u001b[39m 3.2.1\n",
      "\u001b[32m✔\u001b[39m \u001b[34mlubridate\u001b[39m 1.9.3     \u001b[32m✔\u001b[39m \u001b[34mtidyr    \u001b[39m 1.3.1\n",
      "\u001b[32m✔\u001b[39m \u001b[34mpurrr    \u001b[39m 1.0.2     \n",
      "── \u001b[1mConflicts\u001b[22m ────────────────────────────────────────── tidyverse_conflicts() ──\n",
      "\u001b[31m✖\u001b[39m \u001b[34mdplyr\u001b[39m::\u001b[32mfilter()\u001b[39m masks \u001b[34mstats\u001b[39m::filter()\n",
      "\u001b[31m✖\u001b[39m \u001b[34mdplyr\u001b[39m::\u001b[32mlag()\u001b[39m    masks \u001b[34mstats\u001b[39m::lag()\n",
      "\u001b[36mℹ\u001b[39m Use the conflicted package (\u001b[3m\u001b[34m<http://conflicted.r-lib.org/>\u001b[39m\u001b[23m) to force all conflicts to become errors\n",
      "── \u001b[1mAttaching packages\u001b[22m ────────────────────────────────────── tidymodels 1.2.0 ──\n",
      "\n",
      "\u001b[32m✔\u001b[39m \u001b[34mbroom       \u001b[39m 1.0.6     \u001b[32m✔\u001b[39m \u001b[34mrsample     \u001b[39m 1.2.1\n",
      "\u001b[32m✔\u001b[39m \u001b[34mdials       \u001b[39m 1.2.1     \u001b[32m✔\u001b[39m \u001b[34mtune        \u001b[39m 1.2.1\n",
      "\u001b[32m✔\u001b[39m \u001b[34minfer       \u001b[39m 1.0.7     \u001b[32m✔\u001b[39m \u001b[34mworkflows   \u001b[39m 1.1.4\n",
      "\u001b[32m✔\u001b[39m \u001b[34mmodeldata   \u001b[39m 1.4.0     \u001b[32m✔\u001b[39m \u001b[34mworkflowsets\u001b[39m 1.1.0\n",
      "\u001b[32m✔\u001b[39m \u001b[34mparsnip     \u001b[39m 1.2.1     \u001b[32m✔\u001b[39m \u001b[34myardstick   \u001b[39m 1.3.1\n",
      "\u001b[32m✔\u001b[39m \u001b[34mrecipes     \u001b[39m 1.1.0     \n",
      "\n",
      "── \u001b[1mConflicts\u001b[22m ───────────────────────────────────────── tidymodels_conflicts() ──\n",
      "\u001b[31m✖\u001b[39m \u001b[34mscales\u001b[39m::\u001b[32mdiscard()\u001b[39m masks \u001b[34mpurrr\u001b[39m::discard()\n",
      "\u001b[31m✖\u001b[39m \u001b[34mdplyr\u001b[39m::\u001b[32mfilter()\u001b[39m   masks \u001b[34mstats\u001b[39m::filter()\n",
      "\u001b[31m✖\u001b[39m \u001b[34mrecipes\u001b[39m::\u001b[32mfixed()\u001b[39m  masks \u001b[34mstringr\u001b[39m::fixed()\n",
      "\u001b[31m✖\u001b[39m \u001b[34mdplyr\u001b[39m::\u001b[32mlag()\u001b[39m      masks \u001b[34mstats\u001b[39m::lag()\n",
      "\u001b[31m✖\u001b[39m \u001b[34myardstick\u001b[39m::\u001b[32mspec()\u001b[39m masks \u001b[34mreadr\u001b[39m::spec()\n",
      "\u001b[31m✖\u001b[39m \u001b[34mrecipes\u001b[39m::\u001b[32mstep()\u001b[39m   masks \u001b[34mstats\u001b[39m::step()\n",
      "\u001b[34m•\u001b[39m Learn how to get started at \u001b[32mhttps://www.tidymodels.org/start/\u001b[39m\n",
      "\n"
     ]
    }
   ],
   "source": [
    "library(tidyverse)\n",
    "library(repr)\n",
    "library(tidymodels)"
   ]
  },
  {
   "cell_type": "code",
   "execution_count": 2,
   "id": "b4aac71a-bf4a-4ab4-b362-ec7a75506ca7",
   "metadata": {},
   "outputs": [
    {
     "name": "stderr",
     "output_type": "stream",
     "text": [
      "\u001b[1m\u001b[22mNew names:\n",
      "\u001b[36m•\u001b[39m `` -> `...1`\n",
      "\u001b[1mRows: \u001b[22m\u001b[34m1555\u001b[39m \u001b[1mColumns: \u001b[22m\u001b[34m20\u001b[39m\n",
      "\u001b[36m──\u001b[39m \u001b[1mColumn specification\u001b[22m \u001b[36m────────────────────────────────────────────────────────\u001b[39m\n",
      "\u001b[1mDelimiter:\u001b[22m \",\"\n",
      "\u001b[31mchr\u001b[39m  (1): room_type\n",
      "\u001b[32mdbl\u001b[39m (16): ...1, realSum, person_capacity, multi, biz, cleanliness_rating, gu...\n",
      "\u001b[33mlgl\u001b[39m  (3): room_shared, room_private, host_is_superhost\n",
      "\n",
      "\u001b[36mℹ\u001b[39m Use `spec()` to retrieve the full column specification for this data.\n",
      "\u001b[36mℹ\u001b[39m Specify the column types or set `show_col_types = FALSE` to quiet this message.\n",
      "\u001b[1m\u001b[22mNew names:\n",
      "\u001b[36m•\u001b[39m `` -> `...1`\n",
      "\u001b[1mRows: \u001b[22m\u001b[34m1278\u001b[39m \u001b[1mColumns: \u001b[22m\u001b[34m20\u001b[39m\n",
      "\u001b[36m──\u001b[39m \u001b[1mColumn specification\u001b[22m \u001b[36m────────────────────────────────────────────────────────\u001b[39m\n",
      "\u001b[1mDelimiter:\u001b[22m \",\"\n",
      "\u001b[31mchr\u001b[39m  (1): room_type\n",
      "\u001b[32mdbl\u001b[39m (16): ...1, realSum, person_capacity, multi, biz, cleanliness_rating, gu...\n",
      "\u001b[33mlgl\u001b[39m  (3): room_shared, room_private, host_is_superhost\n",
      "\n",
      "\u001b[36mℹ\u001b[39m Use `spec()` to retrieve the full column specification for this data.\n",
      "\u001b[36mℹ\u001b[39m Specify the column types or set `show_col_types = FALSE` to quiet this message.\n",
      "\u001b[1m\u001b[22mNew names:\n",
      "\u001b[36m•\u001b[39m `` -> `...1`\n",
      "\u001b[1mRows: \u001b[22m\u001b[34m3130\u001b[39m \u001b[1mColumns: \u001b[22m\u001b[34m20\u001b[39m\n",
      "\u001b[36m──\u001b[39m \u001b[1mColumn specification\u001b[22m \u001b[36m────────────────────────────────────────────────────────\u001b[39m\n",
      "\u001b[1mDelimiter:\u001b[22m \",\"\n",
      "\u001b[31mchr\u001b[39m  (1): room_type\n",
      "\u001b[32mdbl\u001b[39m (16): ...1, realSum, person_capacity, multi, biz, cleanliness_rating, gu...\n",
      "\u001b[33mlgl\u001b[39m  (3): room_shared, room_private, host_is_superhost\n",
      "\n",
      "\u001b[36mℹ\u001b[39m Use `spec()` to retrieve the full column specification for this data.\n",
      "\u001b[36mℹ\u001b[39m Specify the column types or set `show_col_types = FALSE` to quiet this message.\n",
      "\u001b[1m\u001b[22mNew names:\n",
      "\u001b[36m•\u001b[39m `` -> `...1`\n",
      "\u001b[1mRows: \u001b[22m\u001b[34m3558\u001b[39m \u001b[1mColumns: \u001b[22m\u001b[34m20\u001b[39m\n",
      "\u001b[36m──\u001b[39m \u001b[1mColumn specification\u001b[22m \u001b[36m────────────────────────────────────────────────────────\u001b[39m\n",
      "\u001b[1mDelimiter:\u001b[22m \",\"\n",
      "\u001b[31mchr\u001b[39m  (1): room_type\n",
      "\u001b[32mdbl\u001b[39m (16): ...1, realSum, person_capacity, multi, biz, cleanliness_rating, gu...\n",
      "\u001b[33mlgl\u001b[39m  (3): room_shared, room_private, host_is_superhost\n",
      "\n",
      "\u001b[36mℹ\u001b[39m Use `spec()` to retrieve the full column specification for this data.\n",
      "\u001b[36mℹ\u001b[39m Specify the column types or set `show_col_types = FALSE` to quiet this message.\n",
      "\u001b[1m\u001b[22mNew names:\n",
      "\u001b[36m•\u001b[39m `` -> `...1`\n",
      "\u001b[1mRows: \u001b[22m\u001b[34m1738\u001b[39m \u001b[1mColumns: \u001b[22m\u001b[34m20\u001b[39m\n",
      "\u001b[36m──\u001b[39m \u001b[1mColumn specification\u001b[22m \u001b[36m────────────────────────────────────────────────────────\u001b[39m\n",
      "\u001b[1mDelimiter:\u001b[22m \",\"\n",
      "\u001b[31mchr\u001b[39m  (1): room_type\n",
      "\u001b[32mdbl\u001b[39m (16): ...1, realSum, person_capacity, multi, biz, cleanliness_rating, gu...\n",
      "\u001b[33mlgl\u001b[39m  (3): room_shared, room_private, host_is_superhost\n",
      "\n",
      "\u001b[36mℹ\u001b[39m Use `spec()` to retrieve the full column specification for this data.\n",
      "\u001b[36mℹ\u001b[39m Specify the column types or set `show_col_types = FALSE` to quiet this message.\n",
      "\u001b[1m\u001b[22mNew names:\n",
      "\u001b[36m•\u001b[39m `` -> `...1`\n",
      "\u001b[1mRows: \u001b[22m\u001b[34m1799\u001b[39m \u001b[1mColumns: \u001b[22m\u001b[34m20\u001b[39m\n",
      "\u001b[36m──\u001b[39m \u001b[1mColumn specification\u001b[22m \u001b[36m────────────────────────────────────────────────────────\u001b[39m\n",
      "\u001b[1mDelimiter:\u001b[22m \",\"\n",
      "\u001b[31mchr\u001b[39m  (1): room_type\n",
      "\u001b[32mdbl\u001b[39m (16): ...1, realSum, person_capacity, multi, biz, cleanliness_rating, gu...\n",
      "\u001b[33mlgl\u001b[39m  (3): room_shared, room_private, host_is_superhost\n",
      "\n",
      "\u001b[36mℹ\u001b[39m Use `spec()` to retrieve the full column specification for this data.\n",
      "\u001b[36mℹ\u001b[39m Specify the column types or set `show_col_types = FALSE` to quiet this message.\n"
     ]
    },
    {
     "data": {
      "text/html": [
       "<table class=\"dataframe\">\n",
       "<caption>A tibble: 6 × 22</caption>\n",
       "<thead>\n",
       "\t<tr><th scope=col>...1</th><th scope=col>realSum</th><th scope=col>room_type</th><th scope=col>room_shared</th><th scope=col>room_private</th><th scope=col>person_capacity</th><th scope=col>host_is_superhost</th><th scope=col>multi</th><th scope=col>biz</th><th scope=col>cleanliness_rating</th><th scope=col>⋯</th><th scope=col>dist</th><th scope=col>metro_dist</th><th scope=col>attr_index</th><th scope=col>attr_index_norm</th><th scope=col>rest_index</th><th scope=col>rest_index_norm</th><th scope=col>lng</th><th scope=col>lat</th><th scope=col>city</th><th scope=col>day_type</th></tr>\n",
       "\t<tr><th scope=col>&lt;dbl&gt;</th><th scope=col>&lt;dbl&gt;</th><th scope=col>&lt;chr&gt;</th><th scope=col>&lt;lgl&gt;</th><th scope=col>&lt;lgl&gt;</th><th scope=col>&lt;dbl&gt;</th><th scope=col>&lt;lgl&gt;</th><th scope=col>&lt;dbl&gt;</th><th scope=col>&lt;dbl&gt;</th><th scope=col>&lt;dbl&gt;</th><th scope=col>⋯</th><th scope=col>&lt;dbl&gt;</th><th scope=col>&lt;dbl&gt;</th><th scope=col>&lt;dbl&gt;</th><th scope=col>&lt;dbl&gt;</th><th scope=col>&lt;dbl&gt;</th><th scope=col>&lt;dbl&gt;</th><th scope=col>&lt;dbl&gt;</th><th scope=col>&lt;dbl&gt;</th><th scope=col>&lt;chr&gt;</th><th scope=col>&lt;chr&gt;</th></tr>\n",
       "</thead>\n",
       "<tbody>\n",
       "\t<tr><td>0</td><td>296.1599</td><td>Private room   </td><td>FALSE</td><td> TRUE</td><td>2</td><td> TRUE</td><td>0</td><td>0</td><td>10</td><td>⋯</td><td>0.6998206</td><td>0.1937094</td><td>518.4789</td><td>25.23938</td><td>1218.6622</td><td>71.60803</td><td>2.35385</td><td>48.86282</td><td>Paris</td><td>weekday</td></tr>\n",
       "\t<tr><td>1</td><td>288.2375</td><td>Private room   </td><td>FALSE</td><td> TRUE</td><td>2</td><td> TRUE</td><td>0</td><td>0</td><td>10</td><td>⋯</td><td>2.1000054</td><td>0.1072207</td><td>873.2170</td><td>42.50791</td><td>1000.5433</td><td>58.79146</td><td>2.32436</td><td>48.85902</td><td>Paris</td><td>weekday</td></tr>\n",
       "\t<tr><td>2</td><td>211.3431</td><td>Private room   </td><td>FALSE</td><td> TRUE</td><td>2</td><td>FALSE</td><td>0</td><td>0</td><td>10</td><td>⋯</td><td>3.3023251</td><td>0.2347238</td><td>444.5561</td><td>21.64084</td><td> 902.8545</td><td>53.05131</td><td>2.31714</td><td>48.87475</td><td>Paris</td><td>weekday</td></tr>\n",
       "\t<tr><td>3</td><td>298.9561</td><td>Entire home/apt</td><td>FALSE</td><td>FALSE</td><td>2</td><td>FALSE</td><td>0</td><td>1</td><td> 9</td><td>⋯</td><td>0.5475667</td><td>0.1959965</td><td>542.1420</td><td>26.39129</td><td>1199.1842</td><td>70.46351</td><td>2.35600</td><td>48.86100</td><td>Paris</td><td>weekday</td></tr>\n",
       "\t<tr><td>4</td><td>247.9262</td><td>Entire home/apt</td><td>FALSE</td><td>FALSE</td><td>4</td><td>FALSE</td><td>0</td><td>0</td><td> 7</td><td>⋯</td><td>1.1979209</td><td>0.1035729</td><td>406.9290</td><td>19.80916</td><td>1070.7755</td><td>62.91827</td><td>2.35915</td><td>48.86648</td><td>Paris</td><td>weekday</td></tr>\n",
       "\t<tr><td>5</td><td>527.0761</td><td>Entire home/apt</td><td>FALSE</td><td>FALSE</td><td>4</td><td> TRUE</td><td>0</td><td>0</td><td>10</td><td>⋯</td><td>1.5432015</td><td>0.5491303</td><td>967.4781</td><td>47.09651</td><td>1095.8704</td><td>64.39284</td><td>2.33201</td><td>48.85891</td><td>Paris</td><td>weekday</td></tr>\n",
       "</tbody>\n",
       "</table>\n"
      ],
      "text/latex": [
       "A tibble: 6 × 22\n",
       "\\begin{tabular}{lllllllllllllllllllll}\n",
       " ...1 & realSum & room\\_type & room\\_shared & room\\_private & person\\_capacity & host\\_is\\_superhost & multi & biz & cleanliness\\_rating & ⋯ & dist & metro\\_dist & attr\\_index & attr\\_index\\_norm & rest\\_index & rest\\_index\\_norm & lng & lat & city & day\\_type\\\\\n",
       " <dbl> & <dbl> & <chr> & <lgl> & <lgl> & <dbl> & <lgl> & <dbl> & <dbl> & <dbl> & ⋯ & <dbl> & <dbl> & <dbl> & <dbl> & <dbl> & <dbl> & <dbl> & <dbl> & <chr> & <chr>\\\\\n",
       "\\hline\n",
       "\t 0 & 296.1599 & Private room    & FALSE &  TRUE & 2 &  TRUE & 0 & 0 & 10 & ⋯ & 0.6998206 & 0.1937094 & 518.4789 & 25.23938 & 1218.6622 & 71.60803 & 2.35385 & 48.86282 & Paris & weekday\\\\\n",
       "\t 1 & 288.2375 & Private room    & FALSE &  TRUE & 2 &  TRUE & 0 & 0 & 10 & ⋯ & 2.1000054 & 0.1072207 & 873.2170 & 42.50791 & 1000.5433 & 58.79146 & 2.32436 & 48.85902 & Paris & weekday\\\\\n",
       "\t 2 & 211.3431 & Private room    & FALSE &  TRUE & 2 & FALSE & 0 & 0 & 10 & ⋯ & 3.3023251 & 0.2347238 & 444.5561 & 21.64084 &  902.8545 & 53.05131 & 2.31714 & 48.87475 & Paris & weekday\\\\\n",
       "\t 3 & 298.9561 & Entire home/apt & FALSE & FALSE & 2 & FALSE & 0 & 1 &  9 & ⋯ & 0.5475667 & 0.1959965 & 542.1420 & 26.39129 & 1199.1842 & 70.46351 & 2.35600 & 48.86100 & Paris & weekday\\\\\n",
       "\t 4 & 247.9262 & Entire home/apt & FALSE & FALSE & 4 & FALSE & 0 & 0 &  7 & ⋯ & 1.1979209 & 0.1035729 & 406.9290 & 19.80916 & 1070.7755 & 62.91827 & 2.35915 & 48.86648 & Paris & weekday\\\\\n",
       "\t 5 & 527.0761 & Entire home/apt & FALSE & FALSE & 4 &  TRUE & 0 & 0 & 10 & ⋯ & 1.5432015 & 0.5491303 & 967.4781 & 47.09651 & 1095.8704 & 64.39284 & 2.33201 & 48.85891 & Paris & weekday\\\\\n",
       "\\end{tabular}\n"
      ],
      "text/markdown": [
       "\n",
       "A tibble: 6 × 22\n",
       "\n",
       "| ...1 &lt;dbl&gt; | realSum &lt;dbl&gt; | room_type &lt;chr&gt; | room_shared &lt;lgl&gt; | room_private &lt;lgl&gt; | person_capacity &lt;dbl&gt; | host_is_superhost &lt;lgl&gt; | multi &lt;dbl&gt; | biz &lt;dbl&gt; | cleanliness_rating &lt;dbl&gt; | ⋯ ⋯ | dist &lt;dbl&gt; | metro_dist &lt;dbl&gt; | attr_index &lt;dbl&gt; | attr_index_norm &lt;dbl&gt; | rest_index &lt;dbl&gt; | rest_index_norm &lt;dbl&gt; | lng &lt;dbl&gt; | lat &lt;dbl&gt; | city &lt;chr&gt; | day_type &lt;chr&gt; |\n",
       "|---|---|---|---|---|---|---|---|---|---|---|---|---|---|---|---|---|---|---|---|---|\n",
       "| 0 | 296.1599 | Private room    | FALSE |  TRUE | 2 |  TRUE | 0 | 0 | 10 | ⋯ | 0.6998206 | 0.1937094 | 518.4789 | 25.23938 | 1218.6622 | 71.60803 | 2.35385 | 48.86282 | Paris | weekday |\n",
       "| 1 | 288.2375 | Private room    | FALSE |  TRUE | 2 |  TRUE | 0 | 0 | 10 | ⋯ | 2.1000054 | 0.1072207 | 873.2170 | 42.50791 | 1000.5433 | 58.79146 | 2.32436 | 48.85902 | Paris | weekday |\n",
       "| 2 | 211.3431 | Private room    | FALSE |  TRUE | 2 | FALSE | 0 | 0 | 10 | ⋯ | 3.3023251 | 0.2347238 | 444.5561 | 21.64084 |  902.8545 | 53.05131 | 2.31714 | 48.87475 | Paris | weekday |\n",
       "| 3 | 298.9561 | Entire home/apt | FALSE | FALSE | 2 | FALSE | 0 | 1 |  9 | ⋯ | 0.5475667 | 0.1959965 | 542.1420 | 26.39129 | 1199.1842 | 70.46351 | 2.35600 | 48.86100 | Paris | weekday |\n",
       "| 4 | 247.9262 | Entire home/apt | FALSE | FALSE | 4 | FALSE | 0 | 0 |  7 | ⋯ | 1.1979209 | 0.1035729 | 406.9290 | 19.80916 | 1070.7755 | 62.91827 | 2.35915 | 48.86648 | Paris | weekday |\n",
       "| 5 | 527.0761 | Entire home/apt | FALSE | FALSE | 4 |  TRUE | 0 | 0 | 10 | ⋯ | 1.5432015 | 0.5491303 | 967.4781 | 47.09651 | 1095.8704 | 64.39284 | 2.33201 | 48.85891 | Paris | weekday |\n",
       "\n"
      ],
      "text/plain": [
       "  ...1 realSum  room_type       room_shared room_private person_capacity\n",
       "1 0    296.1599 Private room    FALSE        TRUE        2              \n",
       "2 1    288.2375 Private room    FALSE        TRUE        2              \n",
       "3 2    211.3431 Private room    FALSE        TRUE        2              \n",
       "4 3    298.9561 Entire home/apt FALSE       FALSE        2              \n",
       "5 4    247.9262 Entire home/apt FALSE       FALSE        4              \n",
       "6 5    527.0761 Entire home/apt FALSE       FALSE        4              \n",
       "  host_is_superhost multi biz cleanliness_rating ⋯ dist      metro_dist\n",
       "1  TRUE             0     0   10                 ⋯ 0.6998206 0.1937094 \n",
       "2  TRUE             0     0   10                 ⋯ 2.1000054 0.1072207 \n",
       "3 FALSE             0     0   10                 ⋯ 3.3023251 0.2347238 \n",
       "4 FALSE             0     1    9                 ⋯ 0.5475667 0.1959965 \n",
       "5 FALSE             0     0    7                 ⋯ 1.1979209 0.1035729 \n",
       "6  TRUE             0     0   10                 ⋯ 1.5432015 0.5491303 \n",
       "  attr_index attr_index_norm rest_index rest_index_norm lng     lat      city \n",
       "1 518.4789   25.23938        1218.6622  71.60803        2.35385 48.86282 Paris\n",
       "2 873.2170   42.50791        1000.5433  58.79146        2.32436 48.85902 Paris\n",
       "3 444.5561   21.64084         902.8545  53.05131        2.31714 48.87475 Paris\n",
       "4 542.1420   26.39129        1199.1842  70.46351        2.35600 48.86100 Paris\n",
       "5 406.9290   19.80916        1070.7755  62.91827        2.35915 48.86648 Paris\n",
       "6 967.4781   47.09651        1095.8704  64.39284        2.33201 48.85891 Paris\n",
       "  day_type\n",
       "1 weekday \n",
       "2 weekday \n",
       "3 weekday \n",
       "4 weekday \n",
       "5 weekday \n",
       "6 weekday "
      ]
     },
     "metadata": {},
     "output_type": "display_data"
    }
   ],
   "source": [
    "# Main developer: Wasay\n",
    "\n",
    "barcelona_weekdays <- read_csv(\"https://raw.githubusercontent.com/awhayat/stat-301-project/refs/heads/main/barcelona_weekdays.csv\") |>\n",
    "    mutate(city = \"Barcelona\", day_type = \"weekday\")\n",
    "barcelona_weekends <- read_csv(\"https://raw.githubusercontent.com/awhayat/stat-301-project/refs/heads/main/barcelona_weekends.csv\") |>\n",
    "    mutate(city = \"Barcelona\", day_type = \"weekend\")\n",
    "paris_weekdays <- read_csv(\"https://raw.githubusercontent.com/awhayat/stat-301-project/refs/heads/main/paris_weekdays.csv\") |>\n",
    "    mutate(city = \"Paris\", day_type = \"weekday\")\n",
    "paris_weekends <- read_csv(\"https://raw.githubusercontent.com/awhayat/stat-301-project/refs/heads/main/paris_weekends.csv\") |>\n",
    "    mutate(city = \"Paris\", day_type = \"weekend\")\n",
    "vienna_weekdays <- read_csv(\"https://raw.githubusercontent.com/awhayat/stat-301-project/refs/heads/main/vienna_weekdays.csv\") |>\n",
    "    mutate(city = \"Vienna\", day_type = \"weekday\")\n",
    "vienna_weekends <- read_csv(\"https://raw.githubusercontent.com/awhayat/stat-301-project/refs/heads/main/vienna_weekends.csv\") |>\n",
    "    mutate(city = \"Vienna\", day_type = \"weekend\")\n",
    "\n",
    "airbnb_data <- bind_rows(paris_weekdays, paris_weekends, barcelona_weekdays, barcelona_weekends, vienna_weekdays, vienna_weekends)\n",
    "head(airbnb_data)"
   ]
  },
  {
   "cell_type": "markdown",
   "id": "1f8540af-cd4a-4750-9496-d904097cd6bd",
   "metadata": {},
   "source": [
    "### Plan"
   ]
  },
  {
   "cell_type": "markdown",
   "id": "eeaa8105-0023-48c9-ba1e-0a321a285c63",
   "metadata": {},
   "source": [
    "### Computational Code and Output"
   ]
  },
  {
   "cell_type": "markdown",
   "id": "d6cbb279-6b3c-4e50-80da-1ecf48d68946",
   "metadata": {},
   "source": [
    "## Discussion"
   ]
  },
  {
   "cell_type": "markdown",
   "id": "b50c20f6-3bb9-4ea0-b4b5-f2baac2d8981",
   "metadata": {},
   "source": [
    "## References"
   ]
  },
  {
   "cell_type": "markdown",
   "id": "f7e0a56d-fe8a-41ce-83f9-74bce91b9fd1",
   "metadata": {},
   "source": [
    "(at least two references expected in the introduction)\n",
    "\n",
    "- reference 1\n",
    "- reference 2"
   ]
  }
 ],
 "metadata": {
  "kernelspec": {
   "display_name": "R",
   "language": "R",
   "name": "ir"
  },
  "language_info": {
   "codemirror_mode": "r",
   "file_extension": ".r",
   "mimetype": "text/x-r-source",
   "name": "R",
   "pygments_lexer": "r",
   "version": "4.3.3"
  }
 },
 "nbformat": 4,
 "nbformat_minor": 5
}
